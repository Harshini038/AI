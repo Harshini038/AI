{
 "cells": [
  {
   "cell_type": "code",
   "execution_count": 1,
   "id": "1ac93003",
   "metadata": {},
   "outputs": [],
   "source": [
    "import heapq"
   ]
  },
  {
   "cell_type": "code",
   "execution_count": 2,
   "id": "170ead43",
   "metadata": {},
   "outputs": [],
   "source": [
    "def astar(start, goal, graph, heuristic):\n",
    "    open_list = [(0, start)]\n",
    "    closed_list = set()\n",
    "    g_scores = {start: 0}\n",
    "    parents = {start: None}\n",
    "    \n",
    "    while open_list:\n",
    "        f_score, current = heapq.heappop(open_list)\n",
    "        \n",
    "        if current == goal:\n",
    "            path = []\n",
    "            while current:\n",
    "                path.append(current)\n",
    "                current = parents[current]\n",
    "            path.reverse()\n",
    "            \n",
    "            path_cost = g_scores[goal]\n",
    "            return path, path_cost\n",
    "        \n",
    "        closed_list.add(current)\n",
    "        \n",
    "        for neighbor in graph[current]:\n",
    "            if neighbor in closed_list:\n",
    "                continue\n",
    "            \n",
    "            tentative_g_score = g_scores[current] + graph[current][neighbor]\n",
    "            \n",
    "            if neighbor not in [n[1] for n in open_list] or tentative_g_score < g_scores.get(neighbor, float('inf')):\n",
    "                g_scores[neighbor] = tentative_g_score\n",
    "                f_score = tentative_g_score + heuristic(neighbor, goal)\n",
    "                heapq.heappush(open_list, (f_score, neighbor))\n",
    "                parents[neighbor] = current\n",
    "    \n",
    "    return None, float('inf') "
   ]
  },
  {
   "cell_type": "code",
   "execution_count": 3,
   "id": "840e08dd",
   "metadata": {},
   "outputs": [],
   "source": [
    "graph = {\n",
    "    'A': {'B': 5, 'C': 10},\n",
    "    'B': {'D': 15, 'E': 20},\n",
    "    'C': {'F': 5},\n",
    "    'D': {'G': 15},\n",
    "    'E': {'G': 20},\n",
    "    'F': {'G': 10},\n",
    "    'G': {}\n",
    "}"
   ]
  },
  {
   "cell_type": "code",
   "execution_count": 4,
   "id": "c79bbf69",
   "metadata": {},
   "outputs": [],
   "source": [
    "def heuristic(node, goal):\n",
    "    h_scores = {\n",
    "        'A': 35,\n",
    "        'B': 30,\n",
    "        'C': 35,\n",
    "        'D': 20,\n",
    "        'E': 15,\n",
    "        'F': 10,\n",
    "        'G': 0\n",
    "    }\n",
    "    return h_scores[node]"
   ]
  },
  {
   "cell_type": "code",
   "execution_count": 6,
   "id": "66d98759",
   "metadata": {},
   "outputs": [
    {
     "name": "stdout",
     "output_type": "stream",
     "text": [
      "['A', 'B', 'D', 'G']\n",
      "F-Score:  35\n"
     ]
    }
   ],
   "source": [
    "path,cost = astar('A', 'G', graph, heuristic)\n",
    "print(path)\n",
    "print(\"F-Score: \", cost)"
   ]
  },
  {
   "cell_type": "code",
   "execution_count": null,
   "id": "7180c3f8",
   "metadata": {},
   "outputs": [],
   "source": []
  }
 ],
 "metadata": {
  "kernelspec": {
   "display_name": "Python 3 (ipykernel)",
   "language": "python",
   "name": "python3"
  },
  "language_info": {
   "codemirror_mode": {
    "name": "ipython",
    "version": 3
   },
   "file_extension": ".py",
   "mimetype": "text/x-python",
   "name": "python",
   "nbconvert_exporter": "python",
   "pygments_lexer": "ipython3",
   "version": "3.11.4"
  }
 },
 "nbformat": 4,
 "nbformat_minor": 5
}
