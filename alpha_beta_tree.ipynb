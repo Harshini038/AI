{
 "cells": [
  {
   "cell_type": "code",
   "execution_count": 2,
   "id": "ec7e659d",
   "metadata": {},
   "outputs": [
    {
     "name": "stdout",
     "output_type": "stream",
     "text": [
      "Optimal value: 6\n"
     ]
    }
   ],
   "source": [
    "import math\n",
    "\n",
    "def alpha_beta(node, depth, alpha, beta, is_max):\n",
    "    if depth == 3:  # Leaf node\n",
    "        return node  # Return the value at the leaf node\n",
    "    if is_max:  # Max's turn\n",
    "        value = -math.inf\n",
    "        for child in node:\n",
    "            value = max(value, alpha_beta(child, depth + 1, alpha, beta, False))\n",
    "            alpha = max(alpha, value)\n",
    "            if alpha >= beta:  # Beta cut-off\n",
    "                break\n",
    "        return value\n",
    "    else:  # Min's turn\n",
    "        value = math.inf\n",
    "        for child in node:\n",
    "            value = min(value, alpha_beta(child, depth + 1, alpha, beta, True))\n",
    "            beta = min(beta, value)\n",
    "            if alpha >= beta:  # Alpha cut-off\n",
    "                break\n",
    "        return value\n",
    "\n",
    "# Leaf values from the tree\n",
    "leaf_values = [\n",
    "    [[6, 5], [2, 6]],\n",
    "    [[4, 7], [2, 2]],\n",
    "    [[5, 1], [1, 5]],\n",
    "    [[3, 9], [2, 6]]\n",
    "]\n",
    "\n",
    "# Compute optimal value\n",
    "result = alpha_beta(leaf_values, 0, -math.inf, math.inf, True)\n",
    "print(\"Optimal value:\", result)\n"
   ]
  }
 ],
 "metadata": {
  "kernelspec": {
   "display_name": "Python 3 (ipykernel)",
   "language": "python",
   "name": "python3"
  },
  "language_info": {
   "codemirror_mode": {
    "name": "ipython",
    "version": 3
   },
   "file_extension": ".py",
   "mimetype": "text/x-python",
   "name": "python",
   "nbconvert_exporter": "python",
   "pygments_lexer": "ipython3",
   "version": "3.11.4"
  }
 },
 "nbformat": 4,
 "nbformat_minor": 5
}
