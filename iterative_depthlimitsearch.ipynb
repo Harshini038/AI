{
 "cells": [
  {
   "cell_type": "code",
   "execution_count": 1,
   "id": "467bc153",
   "metadata": {},
   "outputs": [
    {
     "name": "stdout",
     "output_type": "stream",
     "text": [
      "Solution found: ['right', 'right']\n"
     ]
    }
   ],
   "source": [
    "from collections import deque\n",
    "\n",
    "# Define the target goal state and possible moves\n",
    "GOAL_STATE = [[1, 2, 3], [4, 5, 6], [7, 8, 0]]  # 0 represents the blank tile\n",
    "MOVES = {'up': (-1, 0), 'down': (1, 0), 'left': (0, -1), 'right': (0, 1)}\n",
    "\n",
    "def is_goal(state):\n",
    "    return state == GOAL_STATE\n",
    "\n",
    "def get_blank_position(state):\n",
    "    for i in range(3):\n",
    "        for j in range(3):\n",
    "            if state[i][j] == 0:\n",
    "                return i, j\n",
    "    return None\n",
    "\n",
    "def apply_move(state, move):\n",
    "    new_state = [row[:] for row in state]\n",
    "    i, j = get_blank_position(new_state)\n",
    "    di, dj = MOVES[move]\n",
    "    ni, nj = i + di, j + dj\n",
    "    if 0 <= ni < 3 and 0 <= nj < 3:\n",
    "        # Swap the blank tile with the target tile\n",
    "        new_state[i][j], new_state[ni][nj] = new_state[ni][nj], new_state[i][j]\n",
    "        return new_state\n",
    "    return None\n",
    "\n",
    "def iddfs(start):\n",
    "    depth = 0\n",
    "    while True:\n",
    "        result = dfs(start, depth, set())\n",
    "        if result:\n",
    "            return result\n",
    "        depth += 1\n",
    "\n",
    "def dfs(state, depth, visited):\n",
    "    if is_goal(state):\n",
    "        return []\n",
    "    if depth == 0:\n",
    "\n",
    "        return None\n",
    "    \n",
    "    visited.add(tuple(map(tuple, state)))  # Add state to visited to avoid cycles\n",
    "    for move in MOVES.keys():\n",
    "        new_state = apply_move(state, move)\n",
    "        if new_state and tuple(map(tuple, new_state)) not in visited:\n",
    "            result = dfs(new_state, depth - 1, visited)\n",
    "            if result is not None:\n",
    "                return [move] + result\n",
    "    visited.remove(tuple(map(tuple, state)))\n",
    "    return None\n",
    "\n",
    "# Test with a sample start state\n",
    "start_state = [[1, 2, 3], [4, 5, 6], [0, 7, 8]]  # Example starting state\n",
    "solution = iddfs(start_state)\n",
    "if solution:\n",
    "    print(\"Solution found:\", solution)\n",
    "else:\n",
    "    print(\"No solution found\")\n"
   ]
  },
  {
   "cell_type": "code",
   "execution_count": null,
   "id": "2bf1f0b1",
   "metadata": {},
   "outputs": [],
   "source": []
  }
 ],
 "metadata": {
  "kernelspec": {
   "display_name": "Python 3 (ipykernel)",
   "language": "python",
   "name": "python3"
  },
  "language_info": {
   "codemirror_mode": {
    "name": "ipython",
    "version": 3
   },
   "file_extension": ".py",
   "mimetype": "text/x-python",
   "name": "python",
   "nbconvert_exporter": "python",
   "pygments_lexer": "ipython3",
   "version": "3.11.4"
  }
 },
 "nbformat": 4,
 "nbformat_minor": 5
}
