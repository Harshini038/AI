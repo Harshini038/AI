{
 "cells": [
  {
   "cell_type": "code",
   "execution_count": 4,
   "id": "80b954cd",
   "metadata": {},
   "outputs": [
    {
     "name": "stdout",
     "output_type": "stream",
     "text": [
      "BFS path: \n",
      "Path: 5->3->2\n"
     ]
    }
   ],
   "source": [
    "graph = {\n",
    "    '5':['3', '7'],\n",
    "    '7':['8'],\n",
    "    '8':[],\n",
    "    '3':['2', '4'],\n",
    "    '2':[],\n",
    "    '4':['8']\n",
    "}\n",
    "\n",
    "visited=[]\n",
    "parent={}\n",
    "queue=[]\n",
    "\n",
    "def bfs(visited, graph,start,goal):\n",
    "    visited.append(start)\n",
    "    queue.append(start)   \n",
    "    parent[start]=None\n",
    "    \n",
    "    \n",
    "    \n",
    "    while queue:\n",
    "        node=queue.pop(0)\n",
    "        \n",
    "        if node==goal:\n",
    "            print_solution(parent,start,goal)\n",
    "            return\n",
    "        \n",
    "        for neighbor in graph[node]:\n",
    "            if neighbor not in visited:\n",
    "                visited.append(neighbor)\n",
    "                queue.append(neighbor)\n",
    "                parent[neighbor] = node\n",
    "    print('Goal node not found')\n",
    "        \n",
    "\n",
    "def print_solution(parent, start, goal):\n",
    "    path = []\n",
    "    current = goal\n",
    "    while current is not None:\n",
    "        path.append(current)\n",
    "        current = parent[current]\n",
    "    path.reverse()\n",
    "    print('Path:', '->'.join(path))\n",
    "    \n",
    "print(\"BFS path: \")\n",
    "bfs(visited, graph, '5', '2')"
   ]
  },
  {
   "cell_type": "code",
   "execution_count": 1,
   "id": "e40f5844",
   "metadata": {},
   "outputs": [
    {
     "name": "stdout",
     "output_type": "stream",
     "text": [
      "BFS path: \n",
      "Path: 5->3->2\n"
     ]
    }
   ],
   "source": [
    "#DFS\n",
    "\n",
    "graph = {\n",
    "    '5':['3', '7'],\n",
    "    '7':['8'],\n",
    "    '8':[],\n",
    "    '3':['2', '4'],\n",
    "    '2':[],\n",
    "    '4':['8']\n",
    "}\n",
    "\n",
    "visited=[]\n",
    "parent={}\n",
    "stack=[]\n",
    "\n",
    "def bfs(visited, graph,start,goal):\n",
    "    visited.append(start)\n",
    "    stack.append(start)   \n",
    "    parent[start]=None\n",
    "    \n",
    "    \n",
    "    \n",
    "    while stack:\n",
    "        node=stack.pop()\n",
    "        \n",
    "        if node==goal:\n",
    "            print_solution(parent,start,goal)\n",
    "            return\n",
    "        \n",
    "        for neighbor in graph[node]:\n",
    "            if neighbor not in visited:\n",
    "                visited.append(neighbor)\n",
    "                stack.append(neighbor)\n",
    "                parent[neighbor] = node\n",
    "    print('Goal node not found')\n",
    "        \n",
    "\n",
    "def print_solution(parent, start, goal):\n",
    "    path = []\n",
    "    current = goal\n",
    "    while current is not None:\n",
    "        path.append(current)\n",
    "        current = parent[current]\n",
    "    path.reverse()\n",
    "    print('Path:', '->'.join(path))\n",
    "    \n",
    "print(\"BFS path: \")\n",
    "bfs(visited, graph, '5', '2')"
   ]
  },
  {
   "cell_type": "code",
   "execution_count": null,
   "id": "7436cb05",
   "metadata": {},
   "outputs": [],
   "source": []
  }
 ],
 "metadata": {
  "kernelspec": {
   "display_name": "Python 3 (ipykernel)",
   "language": "python",
   "name": "python3"
  },
  "language_info": {
   "codemirror_mode": {
    "name": "ipython",
    "version": 3
   },
   "file_extension": ".py",
   "mimetype": "text/x-python",
   "name": "python",
   "nbconvert_exporter": "python",
   "pygments_lexer": "ipython3",
   "version": "3.11.4"
  }
 },
 "nbformat": 4,
 "nbformat_minor": 5
}
