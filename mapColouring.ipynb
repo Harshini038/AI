{
 "cells": [
  {
   "cell_type": "code",
   "execution_count": 1,
   "id": "4c0ff531",
   "metadata": {},
   "outputs": [
    {
     "name": "stdout",
     "output_type": "stream",
     "text": [
      "{'A': 'Red', 'B': 'Green', 'C': 'Blue', 'D': 'Red'}\n"
     ]
    }
   ],
   "source": [
    "\n",
    "graph={\n",
    "    'A': {'B','C'},\n",
    "    'B': {'A','C','D'},\n",
    "    'C': {'A','B','D'},\n",
    "    'D': {'B','C'}\n",
    "}\n",
    "\n",
    "colors=['Red','Green','Blue']\n",
    "\n",
    "def map_color(graph,colors):\n",
    "    def backtrack(region,assn):\n",
    "        if len(assn)==len(graph):\n",
    "            return assn\n",
    "        \n",
    "        for color in colors:\n",
    "            if is_valid(region,color,assn):\n",
    "                assn[region]=color\n",
    "                next_region= next_unassign_region(assn)\n",
    "                if backtrack(next_region,assn):\n",
    "                    return assn\n",
    "                del assn[region]\n",
    "        return None\n",
    "    \n",
    "    def is_valid(region,color,assn):\n",
    "        for neighbor in graph[region]:\n",
    "            if assn.get(neighbor)==color:\n",
    "                return False\n",
    "        return True\n",
    "    \n",
    "    def next_unassign_region(assn):\n",
    "        for region in graph:\n",
    "            if region not in assn:\n",
    "                return region\n",
    "        return None\n",
    "    \n",
    "    start_region= next_unassign_region({})\n",
    "    return backtrack(start_region,{})\n",
    "\n",
    "\n",
    "res= map_color(graph,colors)\n",
    "print(res)"
   ]
  },
  {
   "cell_type": "code",
   "execution_count": null,
   "id": "4d77ece4",
   "metadata": {},
   "outputs": [],
   "source": []
  }
 ],
 "metadata": {
  "kernelspec": {
   "display_name": "Python 3 (ipykernel)",
   "language": "python",
   "name": "python3"
  },
  "language_info": {
   "codemirror_mode": {
    "name": "ipython",
    "version": 3
   },
   "file_extension": ".py",
   "mimetype": "text/x-python",
   "name": "python",
   "nbconvert_exporter": "python",
   "pygments_lexer": "ipython3",
   "version": "3.11.4"
  }
 },
 "nbformat": 4,
 "nbformat_minor": 5
}
