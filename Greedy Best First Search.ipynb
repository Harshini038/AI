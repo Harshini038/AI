{
 "cells": [
  {
   "cell_type": "code",
   "execution_count": 2,
   "id": "0b990472",
   "metadata": {},
   "outputs": [
    {
     "name": "stdout",
     "output_type": "stream",
     "text": [
      "Path found: ['S', 'B', 'F', 'G']\n",
      "Path cost: 6\n"
     ]
    }
   ],
   "source": [
    "class Node:\n",
    "    def __init__(self, name, heuristic):\n",
    "        self.name = name\n",
    "        self.heuristic = heuristic\n",
    "        self.children = []\n",
    "\n",
    "    def add_child(self, child, cost):\n",
    "        self.children.append((child, cost))\n",
    "\n",
    "def greedy_best_first_search(start_node, goal_node):\n",
    "    open_list = [(start_node, 0)]\n",
    "    closed_list = []\n",
    "\n",
    "    while open_list:\n",
    "        current_node, current_cost = open_list.pop(0)\n",
    "        closed_list.append(current_node)\n",
    "\n",
    "        if current_node.name == goal_node.name:\n",
    "            path = []\n",
    "            total_cost = current_cost\n",
    "            while current_node:\n",
    "                path.append(current_node.name)\n",
    "                current_node = current_node.parent if hasattr(current_node, 'parent') else None\n",
    "            return path[::-1], total_cost\n",
    "\n",
    "        for child, cost in current_node.children:\n",
    "            if child not in open_list and child not in closed_list:\n",
    "                child.parent = current_node\n",
    "                open_list.append((child, current_cost + cost))\n",
    "\n",
    "        open_list.sort(key=lambda node: node[0].heuristic)\n",
    "\n",
    "    return None, float('inf')\n",
    "\n",
    "# Define nodes with their heuristic values\n",
    "S = Node('S', 13)\n",
    "A = Node('A', 12)\n",
    "B = Node('B', 4)\n",
    "C = Node('C', 7)\n",
    "D = Node('D', 3)\n",
    "E = Node('E', 8)\n",
    "F = Node('F', 2)\n",
    "H = Node('H', 4)\n",
    "I = Node('I', 9)\n",
    "G = Node('G', 0)\n",
    "\n",
    "# Define the edges with their costs\n",
    "S.add_child(A, 3)\n",
    "S.add_child(B, 2)\n",
    "A.add_child(C, 4)\n",
    "A.add_child(D, 1)\n",
    "B.add_child(E, 3)\n",
    "B.add_child(F, 1)\n",
    "E.add_child(H, 5)\n",
    "F.add_child(I, 2)\n",
    "F.add_child(G, 3)\n",
    "\n",
    "# Perform Greedy Best-First Search\n",
    "path, path_cost = greedy_best_first_search(S, G)\n",
    "print(\"Path found:\", path)\n",
    "print(\"Path cost:\", path_cost)\n"
   ]
  },
  {
   "cell_type": "code",
   "execution_count": null,
   "id": "6313006c",
   "metadata": {},
   "outputs": [],
   "source": []
  }
 ],
 "metadata": {
  "kernelspec": {
   "display_name": "Python 3 (ipykernel)",
   "language": "python",
   "name": "python3"
  },
  "language_info": {
   "codemirror_mode": {
    "name": "ipython",
    "version": 3
   },
   "file_extension": ".py",
   "mimetype": "text/x-python",
   "name": "python",
   "nbconvert_exporter": "python",
   "pygments_lexer": "ipython3",
   "version": "3.11.4"
  }
 },
 "nbformat": 4,
 "nbformat_minor": 5
}
